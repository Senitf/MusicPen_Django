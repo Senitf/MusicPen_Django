{
 "cells": [
  {
   "cell_type": "code",
   "execution_count": 1,
   "metadata": {},
   "outputs": [],
   "source": [
    "import os\n",
    "from muscima.io import parse_cropobject_list\n",
    "\n",
    "# Change this to reflect wherever your MUSCIMA++ data lives\n",
    "CROPOBJECT_DIR = r'MUSCIMA-pp_v1.0/v1.0/data/cropobjects_manual'\n",
    "\n",
    "cropobject_fnames = [os.path.join(CROPOBJECT_DIR, f) for f in os.listdir(CROPOBJECT_DIR)]\n",
    "docs = [parse_cropobject_list(f) for f in cropobject_fnames]"
   ]
  },
  {
   "cell_type": "code",
   "execution_count": 2,
   "metadata": {},
   "outputs": [],
   "source": [
    "# Bear in mind that the outlinks are integers, only valid within the same document.\n",
    "# Therefore, we define a function per-document, not per-dataset.\n",
    "def extract_notes_from_doc(cropobjects):\n",
    "    cnt = 0\n",
    "    \"\"\"Finds all ``(full-notehead, stem)`` pairs that form\n",
    "    quarter or half notes. Returns two lists of CropObject tuples:\n",
    "    one for quarter notes, one of half notes.\n",
    "\n",
    "    :returns: quarter_notes, half_notes\n",
    "    \"\"\"\n",
    "    _cropobj_dict = {c.objid: c for c in cropobjects}\n",
    "\n",
    "    notes = []\n",
    "    obj = []\n",
    "    obj2 = []\n",
    "    for c in cropobjects:\n",
    "        cnt+=1\n",
    "        if (c.clsname == 'notehead-full') or (c.clsname == 'notehead-empty'):\n",
    "            _has_stem = False\n",
    "            _has_beam_or_flag = False\n",
    "            stem_obj = None\n",
    "            for o in c.outlinks:\n",
    "                _o_obj = _cropobj_dict[o]\n",
    "                obj.append(_o_obj.clsname)\n",
    "                if _o_obj.clsname == 'stem':\n",
    "                    _has_stem = True\n",
    "                    stem_obj = _o_obj\n",
    "                elif _o_obj.clsname == 'beam':\n",
    "                    _has_beam_or_flag = True\n",
    "                elif _o_obj.clsname.endswith('flag'):\n",
    "                    _has_beam_or_flag = True\n",
    "            if _has_stem and (not _has_beam_or_flag):\n",
    "                # We also need to check against quarter-note chords.\n",
    "                # Stems only have inlinks from noteheads, so checking\n",
    "                # for multiple inlinks will do the trick.\n",
    "                if len(stem_obj.inlinks) == 1:\n",
    "                    notes.append((c, stem_obj))\n",
    "                    \n",
    "    quarter_notes = [(n, s) for n, s in notes if n.clsname == 'notehead-full']\n",
    "    half_notes = [(n, s) for n, s in notes if n.clsname == 'notehead-empty']\n",
    "        \n",
    "    return quarter_notes, half_notes\n",
    "\n",
    "qns_and_hns = [extract_notes_from_doc(cropobjects) for cropobjects in docs]"
   ]
  },
  {
   "cell_type": "code",
   "execution_count": 3,
   "metadata": {},
   "outputs": [
    {
     "data": {
      "text/plain": [
       "(4290, 1199)"
      ]
     },
     "execution_count": 3,
     "metadata": {},
     "output_type": "execute_result"
    }
   ],
   "source": [
    "import itertools\n",
    "qns = list(itertools.chain(*[qn for qn, hn in qns_and_hns]))\n",
    "hns = list(itertools.chain(*[hn for qn, hn in qns_and_hns]))\n",
    "\n",
    "len(qns), len(hns)"
   ]
  },
  {
   "cell_type": "code",
   "execution_count": 4,
   "metadata": {},
   "outputs": [
    {
     "data": {
      "text/plain": [
       "(<muscima.cropobject.CropObject at 0x2457f332be0>,\n",
       " <muscima.cropobject.CropObject at 0x2457f4101d0>)"
      ]
     },
     "execution_count": 4,
     "metadata": {},
     "output_type": "execute_result"
    }
   ],
   "source": [
    "qns[0]"
   ]
  },
  {
   "cell_type": "code",
   "execution_count": 5,
   "metadata": {},
   "outputs": [],
   "source": [
    "import numpy\n",
    "\n",
    "def get_image(cropobjects, margin=1):\n",
    "    \"\"\"Paste the cropobjects' mask onto a shared canvas.\n",
    "    There will be a given margin of background on the edges.\"\"\"\n",
    "\n",
    "    # Get the bounding box into which all the objects fit\n",
    "    top = min([c.top for c in cropobjects])\n",
    "    left = min([c.left for c in cropobjects])\n",
    "    bottom = max([c.bottom for c in cropobjects])\n",
    "    right = max([c.right for c in cropobjects])\n",
    "\n",
    "    # Create the canvas onto which the masks will be pasted\n",
    "    height = bottom - top + 2 * margin\n",
    "    width = right - left + 2 * margin\n",
    "    canvas = numpy.zeros((height, width), dtype='uint8')\n",
    "\n",
    "    for c in cropobjects:\n",
    "        # Get coordinates of upper left corner of the CropObject\n",
    "        # relative to the canvas\n",
    "        _pt = c.top - top + margin\n",
    "        _pl = c.left - left + margin\n",
    "        # We have to add the mask, so as not to overwrite\n",
    "        # previous nonzeros when symbol bounding boxes overlap.\n",
    "        canvas[_pt:_pt+c.height, _pl:_pl+c.width] += c.mask\n",
    "\n",
    "    canvas[canvas > 0] = 1\n",
    "    return canvas"
   ]
  },
  {
   "cell_type": "code",
   "execution_count": 6,
   "metadata": {},
   "outputs": [],
   "source": [
    "qn_images = [get_image(qn) for qn in qns]\n",
    "hn_images = [get_image(hn) for hn in hns]"
   ]
  },
  {
   "cell_type": "code",
   "execution_count": 7,
   "metadata": {},
   "outputs": [
    {
     "data": {
      "text/plain": [
       "(84, 28)"
      ]
     },
     "execution_count": 7,
     "metadata": {},
     "output_type": "execute_result"
    }
   ],
   "source": [
    "qn_images[1].shape"
   ]
  },
  {
   "cell_type": "code",
   "execution_count": 8,
   "metadata": {},
   "outputs": [],
   "source": [
    "import matplotlib.pyplot as plt\n",
    "\n",
    "def show_mask(mask):\n",
    "    plt.imshow(mask, cmap='gray', interpolation='nearest')\n",
    "    plt.show()\n",
    "\n",
    "def show_masks(masks, row_length=5):\n",
    "    n_masks = len(masks)\n",
    "    n_rows = n_masks // row_length + 1\n",
    "    n_cols = min(n_masks, row_length)\n",
    "    fig = plt.figure()\n",
    "    for i, mask in enumerate(masks):\n",
    "        plt.subplot(n_rows, n_cols, i+1)\n",
    "        plt.imshow(mask, cmap='gray', interpolation='nearest')\n",
    "    # Let's remove the axis labels, they clutter the image.\n",
    "    for ax in fig.axes:\n",
    "        ax.set_yticklabels([])\n",
    "        ax.set_xticklabels([])\n",
    "        ax.set_yticks([])\n",
    "        ax.set_xticks([])\n",
    "    plt.show()"
   ]
  },
  {
   "cell_type": "code",
   "execution_count": 9,
   "metadata": {},
   "outputs": [
    {
     "data": {
      "image/png": "[encoded data removed]",
      "text/plain": [
       "<Figure size 432x288 with 25 Axes>"
      ]
     },
     "metadata": {},
     "output_type": "display_data"
    },
    {
     "data": {
      "image/png": "[encoded data removed]",
      "text/plain": [
       "<Figure size 432x288 with 25 Axes>"
      ]
     },
     "metadata": {},
     "output_type": "display_data"
    }
   ],
   "source": [
    "show_masks(qn_images[:25])\n",
    "show_masks(hn_images[:25])"
   ]
  },
  {
   "cell_type": "code",
   "execution_count": 10,
   "metadata": {},
   "outputs": [
    {
     "data": {
      "image/png": "[encoded data removed]",
      "text/plain": [
       "<Figure size 432x288 with 1 Axes>"
      ]
     },
     "metadata": {
      "needs_background": "light"
     },
     "output_type": "display_data"
    }
   ],
   "source": [
    "show_mask(qn_images[16])"
   ]
  },
  {
   "cell_type": "code",
   "execution_count": 12,
   "metadata": {},
   "outputs": [
    {
     "data": {
      "text/plain": [
       "(64, 32)"
      ]
     },
     "execution_count": 12,
     "metadata": {},
     "output_type": "execute_result"
    }
   ],
   "source": [
    "import numpy as np\n",
    "np.shape(hn_images[10])"
   ]
  },
  {
   "cell_type": "code",
   "execution_count": 13,
   "metadata": {},
   "outputs": [],
   "source": [
    "from skimage.transform import resize\n",
    "\n",
    "qn_resized = [resize(qn, (200, 64)) for qn in qn_images]\n",
    "hn_resized = [resize(hn, (200, 64)) for hn in hn_images]\n",
    "\n",
    "\n",
    "# And re-binarize, to compensate for interpolation effects\n",
    "for qn in qn_resized:\n",
    "    qn[qn > 0] = 1\n",
    "for hn in hn_resized:\n",
    "    hn[hn > 0] = 1"
   ]
  },
  {
   "cell_type": "code",
   "execution_count": 14,
   "metadata": {},
   "outputs": [
    {
     "data": {
      "image/png": "[encoded data removed]",
      "text/plain": [
       "<Figure size 432x288 with 1 Axes>"
      ]
     },
     "metadata": {
      "needs_background": "light"
     },
     "output_type": "display_data"
    }
   ],
   "source": [
    "show_mask(qn_resized[16])"
   ]
  },
  {
   "cell_type": "code",
   "execution_count": 15,
   "metadata": {},
   "outputs": [
    {
     "data": {
      "image/png": "[encoded data removed]",
      "text/plain": [
       "<Figure size 432x288 with 25 Axes>"
      ]
     },
     "metadata": {},
     "output_type": "display_data"
    },
    {
     "data": {
      "image/png": "[encoded data removed]",
      "text/plain": [
       "<Figure size 432x288 with 25 Axes>"
      ]
     },
     "metadata": {},
     "output_type": "display_data"
    }
   ],
   "source": [
    "show_masks(qn_resized[:25])\n",
    "show_masks(hn_resized[-25:])"
   ]
  },
  {
   "cell_type": "code",
   "execution_count": 16,
   "metadata": {},
   "outputs": [],
   "source": [
    "# Randomly pick an equal number of quarter-notes.\n",
    "n_hn = len(hn_resized)\n",
    "import random\n",
    "random.shuffle(qn_resized)\n",
    "qn_selected = qn_resized[:n_hn]"
   ]
  },
  {
   "cell_type": "code",
   "execution_count": 17,
   "metadata": {},
   "outputs": [],
   "source": [
    "Q_LABEL = 1\n",
    "H_LABEL = 0\n",
    "\n",
    "qn_labels = [Q_LABEL for _ in qn_selected]\n",
    "hn_labels = [H_LABEL for _ in hn_resized]\n",
    "\n",
    "\n",
    "\n",
    "notes = qn_selected + hn_resized\n",
    "labels = qn_labels + hn_labels"
   ]
  },
  {
   "cell_type": "code",
   "execution_count": 18,
   "metadata": {},
   "outputs": [],
   "source": [
    "from sklearn.model_selection import train_test_split\n",
    "\n",
    "X_train, X_test, y_train, y_test = train_test_split(\n",
    "    notes, labels, test_size=0.25, random_state=42,\n",
    "    stratify=labels)"
   ]
  },
  {
   "cell_type": "code",
   "execution_count": 19,
   "metadata": {},
   "outputs": [],
   "source": [
    "from PIL import Image\n",
    "bb = Image.open('qn4.png')"
   ]
  },
  {
   "cell_type": "code",
   "execution_count": 20,
   "metadata": {},
   "outputs": [
    {
     "data": {
      "text/plain": [
       "<matplotlib.image.AxesImage at 0x24548c4fd68>"
      ]
     },
     "execution_count": 20,
     "metadata": {},
     "output_type": "execute_result"
    },
    {
     "data": {
      "image/png": "[encoded data removed]",
      "text/plain": [
       "<Figure size 432x288 with 1 Axes>"
      ]
     },
     "metadata": {
      "needs_background": "light"
     },
     "output_type": "display_data"
    }
   ],
   "source": [
    "plt.imshow(bb)"
   ]
  },
  {
   "cell_type": "code",
   "execution_count": 21,
   "metadata": {},
   "outputs": [],
   "source": [
    "b2 = np.array(bb)"
   ]
  },
  {
   "cell_type": "code",
   "execution_count": 22,
   "metadata": {
    "scrolled": true
   },
   "outputs": [],
   "source": [
    "chk = ((b2 == 255).all(-1)).astype(int)"
   ]
  },
  {
   "cell_type": "code",
   "execution_count": 23,
   "metadata": {},
   "outputs": [],
   "source": [
    "for idx,a in enumerate(chk):\n",
    "    for idx2,b in enumerate(a):\n",
    "        if b == 1:\n",
    "            chk[idx][idx2] = 0\n",
    "        else :\n",
    "            chk[idx][idx2] = 1"
   ]
  },
  {
   "cell_type": "code",
   "execution_count": 24,
   "metadata": {},
   "outputs": [
    {
     "data": {
      "text/plain": [
       "(59, 53)"
      ]
     },
     "execution_count": 24,
     "metadata": {},
     "output_type": "execute_result"
    }
   ],
   "source": [
    "np.shape(chk)"
   ]
  },
  {
   "cell_type": "code",
   "execution_count": 25,
   "metadata": {},
   "outputs": [
    {
     "data": {
      "text/plain": [
       "array([[0, 0, 0, ..., 0, 0, 0],\n",
       "       [0, 0, 0, ..., 0, 0, 0],\n",
       "       [0, 0, 0, ..., 0, 0, 0],\n",
       "       ...,\n",
       "       [0, 0, 0, ..., 0, 0, 0],\n",
       "       [0, 0, 0, ..., 0, 0, 0],\n",
       "       [0, 0, 0, ..., 0, 0, 0]])"
      ]
     },
     "execution_count": 25,
     "metadata": {},
     "output_type": "execute_result"
    }
   ],
   "source": [
    "chk"
   ]
  },
  {
   "cell_type": "code",
   "execution_count": 26,
   "metadata": {},
   "outputs": [],
   "source": [
    "b2 = resize(chk, (40,50))"
   ]
  },
  {
   "cell_type": "code",
   "execution_count": 27,
   "metadata": {},
   "outputs": [
    {
     "data": {
      "image/png": "[encoded data removed]",
      "text/plain": [
       "<Figure size 432x288 with 1 Axes>"
      ]
     },
     "metadata": {
      "needs_background": "light"
     },
     "output_type": "display_data"
    }
   ],
   "source": [
    "show_mask(b2)"
   ]
  },
  {
   "cell_type": "code",
   "execution_count": 28,
   "metadata": {},
   "outputs": [],
   "source": [
    "for a in b2:\n",
    "    a[a>0] = 1"
   ]
  },
  {
   "cell_type": "code",
   "execution_count": 29,
   "metadata": {},
   "outputs": [],
   "source": [
    "X_train = np.array(X_train)"
   ]
  },
  {
   "cell_type": "code",
   "execution_count": 30,
   "metadata": {},
   "outputs": [],
   "source": [
    "X_train = X_train.reshape(X_train.shape[0],X_train.shape[1],X_train.shape[2],1)"
   ]
  },
  {
   "cell_type": "code",
   "execution_count": 31,
   "metadata": {},
   "outputs": [
    {
     "data": {
      "text/plain": [
       "1"
      ]
     },
     "execution_count": 31,
     "metadata": {},
     "output_type": "execute_result"
    }
   ],
   "source": [
    "X_train.shape[3]"
   ]
  },
  {
   "cell_type": "code",
   "execution_count": 32,
   "metadata": {},
   "outputs": [],
   "source": [
    "y_train = np.array(y_train)"
   ]
  },
  {
   "cell_type": "code",
   "execution_count": 33,
   "metadata": {},
   "outputs": [],
   "source": [
    "from tensorflow.keras.models import Sequential\n",
    "from tensorflow.keras import optimizers\n",
    "from tensorflow.keras.layers import Dense, Activation, Flatten, Conv2D, MaxPooling2D\n",
    "\n",
    "def basic_cnn():\n",
    "    model = Sequential()\n",
    "\n",
    "    model.add(Conv2D(input_shape = (X_train.shape[1], X_train.shape[2], X_train.shape[3]), filters = 50, kernel_size = (3,3), strides = (1,1), padding = 'same'))\n",
    "    model.add(Activation('relu'))\n",
    "    model.add(MaxPooling2D(pool_size = (2,2)))\n",
    "\n",
    "    # prior layer should be flattend to be connected to dense layers\n",
    "    model.add(Flatten())\n",
    "    # dense layer with 50 neurons\n",
    "    model.add(Dense(50, activation = 'relu'))\n",
    "    # final layer with 10 neurons to classify the instances\n",
    "    model.add(Dense(1, activation = 'sigmoid'))\n",
    "\n",
    "    adam = optimizers.Adam(lr = 0.001)\n",
    "    \n",
    "    return model"
   ]
  },
  {
   "cell_type": "code",
   "execution_count": 34,
   "metadata": {},
   "outputs": [],
   "source": [
    "model = basic_cnn()"
   ]
  },
  {
   "cell_type": "code",
   "execution_count": 35,
   "metadata": {},
   "outputs": [
    {
     "name": "stdout",
     "output_type": "stream",
     "text": [
      "Model: \"sequential\"\n",
      "_________________________________________________________________\n",
      "Layer (type)                 Output Shape              Param #   \n",
      "=================================================================\n",
      "conv2d (Conv2D)              (None, 200, 64, 50)       500       \n",
      "_________________________________________________________________\n",
      "activation (Activation)      (None, 200, 64, 50)       0         \n",
      "_________________________________________________________________\n",
      "max_pooling2d (MaxPooling2D) (None, 100, 32, 50)       0         \n",
      "_________________________________________________________________\n",
      "flatten (Flatten)            (None, 160000)            0         \n",
      "_________________________________________________________________\n",
      "dense (Dense)                (None, 50)                8000050   \n",
      "_________________________________________________________________\n",
      "dense_1 (Dense)              (None, 1)                 51        \n",
      "=================================================================\n",
      "Total params: 8,000,601\n",
      "Trainable params: 8,000,601\n",
      "Non-trainable params: 0\n",
      "_________________________________________________________________\n"
     ]
    }
   ],
   "source": [
    "model.summary()"
   ]
  },
  {
   "cell_type": "code",
   "execution_count": 37,
   "metadata": {},
   "outputs": [
    {
     "name": "stdout",
     "output_type": "stream",
     "text": [
      "Epoch 1/10\n",
      "90/90 [==============================] - 11s 124ms/step - loss: 0.3907 - accuracy: 0.8676\n",
      "Epoch 2/10\n",
      "90/90 [==============================] - 16s 173ms/step - loss: 0.0768 - accuracy: 0.9711\n",
      "Epoch 3/10\n",
      "90/90 [==============================] - 16s 180ms/step - loss: 0.0178 - accuracy: 0.9922\n",
      "Epoch 4/10\n",
      "90/90 [==============================] - 16s 173ms/step - loss: 0.0263 - accuracy: 0.9933\n",
      "Epoch 5/10\n",
      "90/90 [==============================] - 17s 191ms/step - loss: 0.0054 - accuracy: 0.9978\n",
      "Epoch 6/10\n",
      "90/90 [==============================] - 18s 202ms/step - loss: 3.3771e-04 - accuracy: 1.0000\n",
      "Epoch 7/10\n",
      "90/90 [==============================] - 18s 204ms/step - loss: 0.0012 - accuracy: 0.9994\n",
      "Epoch 8/10\n",
      "90/90 [==============================] - 18s 197ms/step - loss: 8.7920e-06 - accuracy: 1.0000\n",
      "Epoch 9/10\n",
      "90/90 [==============================] - 17s 193ms/step - loss: 0.0096 - accuracy: 0.9967\n",
      "Epoch 10/10\n",
      "90/90 [==============================] - 17s 186ms/step - loss: 1.1158e-05 - accuracy: 1.0000\n"
     ]
    },
    {
     "data": {
      "text/plain": [
       "<tensorflow.python.keras.callbacks.History at 0x245594bdb38>"
      ]
     },
     "execution_count": 37,
     "metadata": {},
     "output_type": "execute_result"
    }
   ],
   "source": [
    "model.compile(optimizer = 'rmsprop',loss='binary_crossentropy', metrics='accuracy')\n",
    "model.fit(X_train,y_train,epochs=10, batch_size = 20)"
   ]
  },
  {
   "cell_type": "code",
   "execution_count": 38,
   "metadata": {},
   "outputs": [],
   "source": [
    "X_test = np.array(X_test)\n",
    "X_test = X_test.reshape(X_test.shape[0],X_test.shape[1],X_test.shape[2],1)"
   ]
  },
  {
   "cell_type": "code",
   "execution_count": 39,
   "metadata": {},
   "outputs": [],
   "source": [
    "y_test_pred = model.predict(X_test)"
   ]
  },
  {
   "cell_type": "code",
   "execution_count": 40,
   "metadata": {},
   "outputs": [],
   "source": [
    "y_pred = []\n",
    "for i in y_test_pred:\n",
    "    if i <0.5:\n",
    "        y_pred.append(0)\n",
    "    else :\n",
    "        y_pred.append(1)"
   ]
  },
  {
   "cell_type": "code",
   "execution_count": 41,
   "metadata": {},
   "outputs": [
    {
     "name": "stdout",
     "output_type": "stream",
     "text": [
      "              precision    recall  f1-score   support\n",
      "\n",
      "        half       1.00      0.95      0.97       300\n",
      "     quarter       0.96      1.00      0.98       300\n",
      "\n",
      "    accuracy                           0.97       600\n",
      "   macro avg       0.98      0.98      0.97       600\n",
      "weighted avg       0.98      0.97      0.97       600\n",
      "\n"
     ]
    }
   ],
   "source": [
    "from sklearn.metrics import classification_report\n",
    "print(classification_report(y_test, y_pred, target_names=['half', 'quarter']))"
   ]
  },
  {
   "cell_type": "code",
   "execution_count": 42,
   "metadata": {},
   "outputs": [],
   "source": [
    "def extract_data_from_doc(cropobjects):\n",
    "    _cropobj_dict = {c.objid: c for c in cropobjects}\n",
    "    notes = []\n",
    "\n",
    "    for c in cropobjects:\n",
    "        obj = []\n",
    "        obj.append(c)\n",
    "        for o in c.outlinks:\n",
    "            obj.append(_cropobj_dict[o])\n",
    "        obj = tuple(obj)\n",
    "        notes.append(obj)\n",
    "    return notes"
   ]
  },
  {
   "cell_type": "code",
   "execution_count": 43,
   "metadata": {},
   "outputs": [],
   "source": [
    "def extract_notes_from_doc(cropobjects):\n",
    "    \n",
    "    _cropobj_dict = {c.objid: c for c in cropobjects}\n",
    "\n",
    "    notes = []\n",
    "    eight_notes = []\n",
    "    sixteen_notes = []\n",
    "    dot_notes = []\n",
    "    dot_eight_notes = []\n",
    "    dot_sixteen_notes = []\n",
    "    for c in cropobjects:\n",
    "       if (c.clsname == 'notehead-full') or (c.clsname == 'notehead-empty'):\n",
    "            _has_stem = False\n",
    "            _has_beam = False\n",
    "            _has_8th_flag = False\n",
    "            _has_16th_flag = False\n",
    "            _has_dot = False\n",
    "            stem_obj = None\n",
    "            e_flag_obj = None\n",
    "            s_flag_obj = None\n",
    "            dot_obj = None\n",
    "            for o in c.outlinks:\n",
    "                _o_obj = _cropobj_dict[o]\n",
    "                if _o_obj.clsname == 'stem':\n",
    "                    _has_stem = True\n",
    "                    stem_obj = _o_obj\n",
    "                elif _o_obj.clsname == 'beam':\n",
    "                    _has_beam = True\n",
    "                elif _o_obj.clsname == '8th_flag':\n",
    "                    _has_8th_flag = True\n",
    "                    e_flag_obj = _o_obj\n",
    "                elif _o_obj.clsname == '16th_flag':\n",
    "                    _has_16th_flag = True\n",
    "                    s_flag_obj = _o_obj\n",
    "                elif _o_obj.clsname == 'duration-dot':\n",
    "                    _has_dot = True\n",
    "                    dot_obj = _o_obj\n",
    "            if _has_stem and (not _has_beam):\n",
    "                if len(stem_obj.inlinks) == 1:\n",
    "                    if _has_dot:\n",
    "                        if _has_8th_flag:\n",
    "                            if _has_16th_flag:\n",
    "                                dot_sixteen_notes.append((c, stem_obj, e_flag_obj, s_flag_obj, dot_obj))\n",
    "                            else :\n",
    "                                dot_eight_notes.append((c, stem_obj, e_flag_obj, dot_obj))\n",
    "                        else :\n",
    "                            dot_notes.append((c, stem_obj, dot_obj))\n",
    "                    else :\n",
    "                        if _has_8th_flag:\n",
    "                            if _has_16th_flag:\n",
    "                                sixteen_notes.append((c, stem_obj, e_flag_obj, s_flag_obj))\n",
    "                            else :\n",
    "                                eight_notes.append((c, stem_obj, e_flag_obj))\n",
    "                        else :\n",
    "                            notes.append((c, stem_obj))\n",
    "    dot_quarter_notes = [(n, s, d) for n, s, d in dot_notes if n.clsname == 'notehead-full']\n",
    "    dot_half_notes = [(n, s, d) for n, s, d in dot_notes if n.clsname == 'notehead-empty']\n",
    "    quarter_notes = [(n, s) for n, s in notes if n.clsname == 'notehead-full']\n",
    "    half_notes = [(n, s) for n, s in notes if n.clsname == 'notehead-empty']\n",
    "    return quarter_notes, half_notes, eight_notes, sixteen_notes, dot_quarter_notes, dot_half_notes, dot_eight_notes, dot_sixteen_notes"
   ]
  },
  {
   "cell_type": "code",
   "execution_count": 44,
   "metadata": {},
   "outputs": [],
   "source": [
    "notes = [extract_notes_from_doc(cropobjects) for cropobjects in docs]"
   ]
  },
  {
   "cell_type": "code",
   "execution_count": 45,
   "metadata": {},
   "outputs": [],
   "source": [
    "qns = list(itertools.chain(*[qn for qn, hn, en, sn, d_qn, d_hn, d_en, d_sn in notes]))\n",
    "hns = list(itertools.chain(*[hn for qn, hn, en, sn, d_qn, d_hn, d_en, d_sn in notes]))\n",
    "ens = list(itertools.chain(*[en for qn, hn, en, sn, d_qn, d_hn, d_en, d_sn in notes]))\n",
    "sns = list(itertools.chain(*[sn for qn, hn, en, sn, d_qn, d_hn, d_en, d_sn in notes]))\n",
    "d_qns = list(itertools.chain(*[d_qn for qn, hn, en, sn, d_qn, d_hn, d_en, d_sn in notes]))\n",
    "d_hns = list(itertools.chain(*[d_hn for qn, hn, en, sn, d_qn, d_hn, d_en, d_sn in notes]))\n",
    "d_ens = list(itertools.chain(*[d_en for qn, hn, en, sn, d_qn, d_hn, d_en, d_sn in notes]))\n",
    "d_sns = list(itertools.chain(*[d_sn for qn, hn, en, sn, d_qn, d_hn, d_en, d_sn in notes]))"
   ]
  },
  {
   "cell_type": "code",
   "execution_count": 46,
   "metadata": {
    "scrolled": true
   },
   "outputs": [],
   "source": [
    "qn_images = [get_image(qn) for qn in qns]\n",
    "hn_images = [get_image(hn) for hn in hns]\n",
    "en_images = [get_image(en) for en in ens]\n",
    "sn_images = [get_image(sn) for sn in sns]\n",
    "d_qn_images = [get_image(d_qn) for d_qn in d_qns]\n",
    "d_hn_images = [get_image(d_hn) for d_hn in d_hns]\n",
    "d_en_images = [get_image(d_en) for d_en in d_ens]\n",
    "d_sn_images = [get_image(d_sn) for d_sn in d_sns]"
   ]
  },
  {
   "cell_type": "code",
   "execution_count": 47,
   "metadata": {
    "scrolled": true
   },
   "outputs": [
    {
     "data": {
      "text/plain": [
       "1"
      ]
     },
     "execution_count": 47,
     "metadata": {},
     "output_type": "execute_result"
    }
   ],
   "source": [
    "len(d_sns)"
   ]
  },
  {
   "cell_type": "code",
   "execution_count": 48,
   "metadata": {
    "scrolled": false
   },
   "outputs": [
    {
     "data": {
      "image/png": "[encoded data removed]",
      "text/plain": [
       "<Figure size 432x288 with 1 Axes>"
      ]
     },
     "metadata": {
      "needs_background": "light"
     },
     "output_type": "display_data"
    }
   ],
   "source": [
    "show_mask(d_sn_images[0])"
   ]
  },
  {
   "cell_type": "code",
   "execution_count": 458,
   "metadata": {},
   "outputs": [],
   "source": [
    "def extract_data_from_doc(cropobjects):\n",
    "    _cropobj_dict = {c.objid: c for c in cropobjects}\n",
    "    notes = []\n",
    "\n",
    "    for c in cropobjects:\n",
    "        if c.clsname == 'beam':       \n",
    "            obj = []\n",
    "            obj.append(c)\n",
    "            for o in c.outlinks:\n",
    "                obj.append(_cropobj_dict[o])\n",
    "            obj = tuple(obj)\n",
    "            notes.append(obj)\n",
    "    return notes"
   ]
  },
  {
   "cell_type": "code",
   "execution_count": 459,
   "metadata": {},
   "outputs": [],
   "source": [
    "data = [extract_data_from_doc(cropobjects) for cropobjects in docs]\n",
    "data = list(itertools.chain(*[d for d in data]))\n",
    "\n",
    "data_images = [get_image(d) for d in data]"
   ]
  },
  {
   "cell_type": "code",
   "execution_count": 460,
   "metadata": {
    "scrolled": true
   },
   "outputs": [
    {
     "data": {
      "text/plain": [
       "6593"
      ]
     },
     "execution_count": 460,
     "metadata": {},
     "output_type": "execute_result"
    }
   ],
   "source": [
    "len(data_images)"
   ]
  },
  {
   "cell_type": "code",
   "execution_count": 461,
   "metadata": {
    "scrolled": true
   },
   "outputs": [
    {
     "data": {
      "image/png": "[encoded data removed]",
      "text/plain": [
       "<Figure size 432x288 with 25 Axes>"
      ]
     },
     "metadata": {},
     "output_type": "display_data"
    }
   ],
   "source": [
    "show_masks(data_images[:25])"
   ]
  },
  {
   "cell_type": "code",
   "execution_count": 462,
   "metadata": {},
   "outputs": [
    {
     "data": {
      "image/png": "[encoded data removed]",
      "text/plain": [
       "<Figure size 432x288 with 1 Axes>"
      ]
     },
     "metadata": {
      "needs_background": "light"
     },
     "output_type": "display_data"
    }
   ],
   "source": [
    "show_mask(data_images[2])"
   ]
  },
  {
   "cell_type": "code",
   "execution_count": 446,
   "metadata": {
    "scrolled": true
   },
   "outputs": [
    {
     "data": {
      "image/png": "[encoded data removed]",
      "text/plain": [
       "<Figure size 432x288 with 1 Axes>"
      ]
     },
     "metadata": {
      "needs_background": "light"
     },
     "output_type": "display_data"
    }
   ],
   "source": [
    "show_mask(data_images[0])"
   ]
  },
  {
   "cell_type": "code",
   "execution_count": 53,
   "metadata": {},
   "outputs": [
    {
     "data": {
      "text/plain": [
       "(<muscima.cropobject.CropObject at 0x2457f384390>,)"
      ]
     },
     "execution_count": 53,
     "metadata": {},
     "output_type": "execute_result"
    }
   ],
   "source": [
    "data[241]"
   ]
  },
  {
   "cell_type": "code",
   "execution_count": null,
   "metadata": {},
   "outputs": [],
   "source": []
  }
 ],
 "metadata": {
  "kernelspec": {
   "display_name": "Python 3",
   "language": "python",
   "name": "python3"
  },
  "language_info": {
   "codemirror_mode": {
    "name": "ipython",
    "version": 3
   },
   "file_extension": ".py",
   "mimetype": "text/x-python",
   "name": "python",
   "nbconvert_exporter": "python",
   "pygments_lexer": "ipython3",
   "version": "3.7.3"
  }
 },
 "nbformat": 4,
 "nbformat_minor": 4
}
